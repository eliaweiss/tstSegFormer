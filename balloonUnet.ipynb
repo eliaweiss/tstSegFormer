{
  "cells": [
    {
      "cell_type": "code",
      "execution_count": 1,
      "metadata": {
        "colab": {
          "base_uri": "https://localhost:8080/"
        },
        "id": "SsvrqodxNu4r",
        "outputId": "ea8aab2f-d612-4905-dbd3-9a8c45d314e6"
      },
      "outputs": [],
      "source": [
        "!pip install -q transformers datasets torch torchvision albumentations roboflow pytorch_lightning"
      ]
    },
    {
      "cell_type": "markdown",
      "metadata": {
        "id": "aVKEGt3rOiYb"
      },
      "source": [
        "# Download data set from roboflow"
      ]
    },
    {
      "cell_type": "code",
      "execution_count": 2,
      "metadata": {
        "colab": {
          "base_uri": "https://localhost:8080/"
        },
        "id": "4h9CVTiQN8vL",
        "outputId": "674481e4-4e34-4f16-f9f1-48008460c8e0"
      },
      "outputs": [
        {
          "name": "stdout",
          "output_type": "stream",
          "text": [
            "loading Roboflow workspace...\n",
            "loading Roboflow project...\n",
            "Downloading Dataset Version Zip in Balloons-4 to png-mask-semantic: 100% [66855266 / 66855266] bytes\n"
          ]
        },
        {
          "name": "stderr",
          "output_type": "stream",
          "text": [
            "Extracting Dataset Version Zip to Balloons-4 in png-mask-semantic:: 100%|██████████| 4076/4076 [00:00<00:00, 4359.26it/s]\n"
          ]
        }
      ],
      "source": [
        "from roboflow import Roboflow\n",
        "rf = Roboflow(api_key=\"HUBAAfRrsHWybDdGgXbg\")\n",
        "project = rf.workspace(\"paul-guerrie-tang1\").project(\"balloons-geknh\")\n",
        "dataset = project.version(4).download(\"png-mask-semantic\")"
      ]
    },
    {
      "cell_type": "code",
      "execution_count": 18,
      "metadata": {
        "id": "cTClQ-EqNmjj"
      },
      "outputs": [],
      "source": [
        "import torch\n",
        "import albumentations as A\n",
        "from albumentations.pytorch import ToTensorV2\n",
        "import os\n",
        "import torch.nn as nn\n",
        "import pytorch_lightning as pl\n",
        "import torchvision\n",
        "import os\n",
        "from PIL import Image\n",
        "import numpy as np\n",
        "from torch.utils.data import Dataset\n",
        "from torch.utils.data import DataLoader\n",
        "\n",
        "BASE_PATH = \"./Balloons-4\"\n",
        "\n",
        "CHECKPOINT_PATH = \"./model_cp/balloon_checkpoint.pth.tar\"\n",
        "\n",
        "# Hyperparameters etc.\n",
        "LEARNING_RATE = 1e-5\n",
        "DEVICE = \"cuda\" if torch.cuda.is_available() else \"cpu\"\n",
        "# print(\"DEVICE\", DEVICE)\n",
        "BATCH_SIZE = 8\n",
        "NUM_EPOCHS = 10\n",
        "NUM_WORKERS = 2\n",
        "IMAGE_HEIGHT = 512  # 1280 original\n",
        "IMAGE_WIDTH = 512  # 1918 original\n",
        "PIN_MEMORY = True\n",
        "LOAD_MODEL = False\n",
        "TRAIN_IMG_DIR = f\"{BASE_PATH}/train/\"\n",
        "VAL_IMG_DIR = f\"{BASE_PATH}/valid/\"\n"
      ]
    },
    {
      "cell_type": "markdown",
      "metadata": {
        "id": "zBaoEt-DOYTs"
      },
      "source": [
        "# Dataset"
      ]
    },
    {
      "cell_type": "code",
      "execution_count": 19,
      "metadata": {
        "id": "d4IhSuFiOLQ3"
      },
      "outputs": [],
      "source": [
        "class BalloonDataset(Dataset):\n",
        "    def __init__(self, root_dir, transform=None):\n",
        "        self.root_dir = root_dir\n",
        "        self.transform = transform\n",
        "\n",
        "        image_file_names = [f for f in os.listdir(self.root_dir) if '.jpg' in f]\n",
        "        mask_file_names = [f for f in os.listdir(self.root_dir) if '.png' in f]\n",
        "\n",
        "        self.images = sorted(image_file_names)\n",
        "        self.masks = sorted(mask_file_names)\n",
        "\n",
        "    def __len__(self):\n",
        "        return len(self.images)\n",
        "\n",
        "    def __getitem__(self, idx):\n",
        "        image = Image.open(os.path.join(self.root_dir, self.images[idx]))\n",
        "        mask = Image.open(os.path.join(self.root_dir, self.masks[idx]))\n",
        "        mask = mask.resize(image.size)\n",
        "        image = np.array(image.convert(\"RGB\"))\n",
        "        mask =np.array(mask.convert(\"L\"), dtype=np.float32)\n",
        "\n",
        "        mask[mask == 255] = 1.0\n",
        "\n",
        "        if self.transform is not None:\n",
        "            augmentations = self.transform(image=image,mask=mask)\n",
        "            image = augmentations['image']\n",
        "            mask = augmentations['mask']\n",
        "\n",
        "        return image,mask"
      ]
    },
    {
      "cell_type": "code",
      "execution_count": 20,
      "metadata": {
        "id": "ozliBet2Nmjn"
      },
      "outputs": [],
      "source": [
        "train_transform = A.Compose(\n",
        "    [\n",
        "        A. Resize(height=IMAGE_HEIGHT, width=IMAGE_WIDTH),\n",
        "        # A. Rotate(limit=35, p=1.0),\n",
        "        # A.HorizontalFlip(p=0.5),\n",
        "        # A.VerticalFlip(p=0.1),\n",
        "        A.Normalize(\n",
        "            mean=[0.0, 0.0, 0.0],\n",
        "            std=[1.0, 1.0, 1.0],\n",
        "            max_pixel_value=255.0,\n",
        "        ),\n",
        "        ToTensorV2(),\n",
        "    ],\n",
        ")\n",
        "val_transform = A.Compose(\n",
        "    [\n",
        "        A.Resize(height=IMAGE_HEIGHT, width=IMAGE_WIDTH),\n",
        "        A.Normalize(\n",
        "            mean=[0.0, 0.0, 0.0],\n",
        "            std=[1.0, 1.0, 1.0],\n",
        "            max_pixel_value=255.0,\n",
        "        ),\n",
        "        ToTensorV2(),\n",
        "    ],\n",
        ")\n"
      ]
    },
    {
      "cell_type": "code",
      "execution_count": 21,
      "metadata": {
        "id": "J43XxUNZOXBq"
      },
      "outputs": [],
      "source": [
        "train_ds = BalloonDataset(\n",
        "    root_dir=TRAIN_IMG_DIR,\n",
        "    transform=train_transform,\n",
        ")\n",
        "\n",
        "train_loaders = DataLoader(\n",
        "    train_ds,\n",
        "    batch_size=BATCH_SIZE,\n",
        "    num_workers=NUM_WORKERS,\n",
        "    pin_memory=PIN_MEMORY,\n",
        "    shuffle=True,\n",
        ")\n",
        "\n",
        "val_ds = BalloonDataset(\n",
        "    root_dir=VAL_IMG_DIR,\n",
        "    transform=val_transform,\n",
        ")\n",
        "val_loaders = DataLoader(\n",
        "    val_ds,\n",
        "    batch_size=BATCH_SIZE,\n",
        "    num_workers=NUM_WORKERS,\n",
        "    pin_memory=PIN_MEMORY,\n",
        "    shuffle=False,\n",
        ")\n"
      ]
    },
    {
      "cell_type": "markdown",
      "metadata": {
        "id": "ulrYwlGnPSLY"
      },
      "source": [
        "# Unet model"
      ]
    },
    {
      "cell_type": "code",
      "execution_count": 22,
      "metadata": {
        "colab": {
          "base_uri": "https://localhost:8080/"
        },
        "id": "LnSiB7XTPUTl",
        "outputId": "f1f02b0a-adc5-40ec-cc90-541639b8cbec"
      },
      "outputs": [
        {
          "name": "stdout",
          "output_type": "stream",
          "text": [
            "torch.Size([3, 1, 161, 161])\n",
            "torch.Size([3, 1, 161, 161])\n"
          ]
        },
        {
          "name": "stderr",
          "output_type": "stream",
          "text": [
            "/opt/conda/envs/pytorch/lib/python3.10/site-packages/torchvision/transforms/functional.py:1603: UserWarning: The default value of the antialias parameter of all the resizing transforms (Resize(), RandomResizedCrop(), etc.) will change from None to True in v0.17, in order to be consistent across the PIL and Tensor backends. To suppress this warning, directly pass antialias=True (recommended, future default), antialias=None (current default, which means False for Tensors and True for PIL), or antialias=False (only works on Tensors - PIL will still use antialiasing). This also applies if you are using the inference transforms from the models weights: update the call to weights.transforms(antialias=True).\n",
            "  warnings.warn(\n"
          ]
        }
      ],
      "source": [
        "# https://www.youtube.com/watch?v=IHq1t7NxS8k&ab_channel=AladdinPersson\n",
        "import torch\n",
        "import torch.nn as nn\n",
        "import torchvision.transforms.functional as TF\n",
        "import pytorch_lightning as pl\n",
        "from pytorch_lightning.callbacks.early_stopping import EarlyStopping\n",
        "from pytorch_lightning.callbacks.model_checkpoint import ModelCheckpoint\n",
        "from pytorch_lightning.loggers import CSVLogger\n",
        "import torch.optim as optim\n",
        "# import torchmetrics\n",
        "from torchmetrics.classification import Accuracy\n",
        "LEARNING_RATE = 1e-4\n",
        "from torchmetrics import Metric\n",
        "\n",
        "class MyAccuracy(Metric):\n",
        "    def __init__(self):\n",
        "        super().__init__()\n",
        "        self.add_state(\"total\", default=torch.tensor(0, dtype=torch.float), dist_reduce_fx=\"sum\")\n",
        "        self.add_state(\"correct\", default=torch.tensor(0, dtype=torch.float), dist_reduce_fx=\"sum\")\n",
        "        self.add_state(\"dice_score\", default=torch.tensor(0, dtype=torch.float), dist_reduce_fx=\"sum\")\n",
        "\n",
        "    def update(self,preds, targets):\n",
        "        preds = (preds > 0.5).float()\n",
        "\n",
        "\n",
        "        self.correct +=  (preds == targets).sum()\n",
        "        self.total += torch.numel(preds)\n",
        "        self.dice_score += (2*(preds*targets).sum())/(\n",
        "            (preds+targets).sum() + 1e-8\n",
        "        )\n",
        "\n",
        "\n",
        "    def compute(self):\n",
        "        # Calculate accuracy and dice coefficient\n",
        "        accuracy = self.correct.float() / self.total.float()\n",
        "        dice_score = self.dice_score.float()\n",
        "        return {'accuracy': accuracy, 'dice_score': dice_score}\n",
        "\n",
        "class DoubleConv(nn.Module):\n",
        "    ################################################################\n",
        "    def __init__(self, in_channels, out_channels):\n",
        "        super(DoubleConv, self).__init__()\n",
        "        self.conv = nn.Sequential(\n",
        "            # kernel, stride, padding - same convolution\n",
        "            nn.Conv2d(in_channels, out_channels, 3, 1, 1, bias=False),\n",
        "            nn.BatchNorm2d(out_channels),\n",
        "            nn.ReLU(inplace=True),\n",
        "            # kernel, stride, padding - same convolution\n",
        "            nn.Conv2d(out_channels, out_channels, 3, 1, 1, bias=False),\n",
        "            nn.BatchNorm2d(out_channels),\n",
        "            nn.ReLU(inplace=True),\n",
        "        )\n",
        "\n",
        "    ################################################################\n",
        "    def forward(self, x):\n",
        "        return self.conv(x)\n",
        "\n",
        "\n",
        "class UNET(pl.LightningModule):\n",
        "    ################################################################\n",
        "    def __init__(self,\n",
        "                 in_channels=3, out_channels=1,\n",
        "                 features=[64, 128, 256, 512],\n",
        "                 metrics_interval=100\n",
        "                 ):\n",
        "        super(UNET, self).__init__()\n",
        "        self._init_unet(in_channels, out_channels, features)\n",
        "\n",
        "        self.loss_fn = nn.BCEWithLogitsLoss()\n",
        "        self.accuracy = Accuracy(task=\"multiclass\", num_classes=2)\n",
        "        self.my_accuracy = MyAccuracy()\n",
        "        self.metrics_interval = metrics_interval\n",
        "    ################################################################\n",
        "\n",
        "    def _init_unet(self, in_channels, out_channels, features):\n",
        "        self.downs = nn.ModuleList()\n",
        "        self.ups = nn.ModuleList()\n",
        "\n",
        "        self.pool = nn.MaxPool2d(kernel_size=2, stride=2)\n",
        "\n",
        "        # Down part\n",
        "        for feature in features:\n",
        "            self.downs.append(DoubleConv(in_channels, feature))\n",
        "            in_channels = feature\n",
        "\n",
        "        # Up part\n",
        "        for feature in reversed(features):\n",
        "            self.ups.append(\n",
        "                nn.ConvTranspose2d(feature*2, feature, kernel_size=2, stride=2)\n",
        "            )\n",
        "            self.ups.append(DoubleConv(feature*2, feature))\n",
        "\n",
        "        self.bottleneck = DoubleConv(features[-1], features[-1]*2)\n",
        "\n",
        "        self.final_conv = nn.Conv2d(features[0], out_channels, kernel_size=1)\n",
        "        return in_channels\n",
        "\n",
        "        # self.scaler = torch.cuda.amp.grad_scaler.GradScaler()\n",
        "\n",
        "    ################################################################\n",
        "    def forward(self, x):\n",
        "        skip_connections = []\n",
        "        for down in self.downs:\n",
        "            x = down(x)\n",
        "            skip_connections.append(x)\n",
        "            x = self.pool(x)\n",
        "\n",
        "        x = self.bottleneck(x)\n",
        "\n",
        "        skip_connections = skip_connections[::-1]\n",
        "\n",
        "        for idx in range(0, len(self.ups), 2):\n",
        "            x = self.ups[idx](x)\n",
        "            skip_connection = skip_connections[idx//2]\n",
        "\n",
        "            if x.shape != skip_connection.shape:\n",
        "                x = TF.resize(x, size=skip_connection.shape[2:])\n",
        "\n",
        "            concat_skip = torch.cat((skip_connection, x), dim=1)\n",
        "            x = self.ups[idx+1](concat_skip)\n",
        "\n",
        "        return self.final_conv(x)\n",
        "\n",
        "    ################################################################\n",
        "    def training_step(self, batch, batch_idx):\n",
        "        loss , predictions, targets = self._common_step(batch, batch_idx)\n",
        "        # self.log('train_loss', loss)\n",
        "        if True: #batch_idx % self.metrics_interval == 0:\n",
        "            accuracy = self.my_accuracy(predictions, targets)\n",
        "\n",
        "            # metrics = self.train_mean_iou.compute(\n",
        "            #     num_labels=self.num_classes,\n",
        "            #     ignore_index=255,\n",
        "            #     reduce_labels=False,\n",
        "            # )\n",
        "\n",
        "            metrics = {'loss': loss, \"accuracy\": accuracy[\"accuracy\"], \"dice_score\": accuracy[\"dice_score\"]}\n",
        "\n",
        "            # for k,v in metrics.items():\n",
        "            #     self.log(k,v)\n",
        "\n",
        "        else:\n",
        "            metrics = {'loss': loss}\n",
        "\n",
        "        self.log_dict(metrics, prog_bar=True)\n",
        "\n",
        "\n",
        "        return(metrics)\n",
        "\n",
        "    ################################################################\n",
        "    def validation_step(self, batch, batch_idx):\n",
        "        loss , predictions, targets = self._common_step(batch, batch_idx)\n",
        "        # self.log('val_loss', loss)\n",
        "        # self.log_dict({'val_loss': loss, 'accuracy': accuracy})\n",
        "        return loss\n",
        "\n",
        "    ################################################################\n",
        "    def test_step(self, batch, batch_idx):\n",
        "        loss , predictions, targets = self._common_step(batch, batch_idx)\n",
        "        self.log('test_loss', loss)\n",
        "\n",
        "        return loss\n",
        "\n",
        "    ################################################################\n",
        "    def _common_step(self, batch, batch_idx):\n",
        "        # Get data and targets\n",
        "        data, targets = batch\n",
        "        targets = targets.float().unsqueeze(1)\n",
        "\n",
        "        # Forward pass with AMP (assuming AMP is enabled)\n",
        "        # with torch.cuda.amp.autocast():\n",
        "        predictions = self.forward(data)\n",
        "        loss = self.loss_fn(predictions, targets)\n",
        "\n",
        "        # Automatic backward pass and optimizer step (handled by Lightning)\n",
        "\n",
        "        # Automatic logging (can be configured in trainer)\n",
        "\n",
        "        return loss , predictions, targets\n",
        "\n",
        "\n",
        "    ################################################################\n",
        "    def predict_step(self, batch):\n",
        "        data, targets = batch\n",
        "        # with torch.cuda.amp.autocast():\n",
        "        preds = torch.sigmoid(self.forward(data))\n",
        "\n",
        "        preds = (preds > 0.5).float()\n",
        "\n",
        "        return preds\n",
        "\n",
        "\n",
        "    ################################################################\n",
        "    def configure_optimizers(self):\n",
        "        return optim.Adam(self.parameters(), lr=LEARNING_RATE)\n",
        "\n",
        "################################################################\n",
        "def test():\n",
        "    x = torch.randn((3, 1, 161, 161))\n",
        "    model = UNET(in_channels=1, out_channels=1)\n",
        "    pred = model(x)\n",
        "    print(pred.shape)\n",
        "    print(x.shape)\n",
        "    assert pred.shape == x.shape\n",
        "\n",
        "\n",
        "test()"
      ]
    },
    {
      "cell_type": "markdown",
      "metadata": {
        "id": "MAeqwQFJOb2Y"
      },
      "source": [
        "# Train"
      ]
    },
    {
      "cell_type": "code",
      "execution_count": 23,
      "metadata": {
        "id": "1YtcwzN1Nmjn"
      },
      "outputs": [],
      "source": [
        "model = UNET(in_channels=3, out_channels=1).to(DEVICE)\n"
      ]
    },
    {
      "cell_type": "code",
      "execution_count": 24,
      "metadata": {
        "colab": {
          "base_uri": "https://localhost:8080/"
        },
        "id": "Gq2zxPSpNmjo",
        "outputId": "5a7d03ea-a543-4a81-b80a-98904b57a14a"
      },
      "outputs": [
        {
          "name": "stderr",
          "output_type": "stream",
          "text": [
            "GPU available: True (cuda), used: True\n",
            "TPU available: False, using: 0 TPU cores\n",
            "IPU available: False, using: 0 IPUs\n",
            "HPU available: False, using: 0 HPUs\n"
          ]
        }
      ],
      "source": [
        "trainer = pl.Trainer(\n",
        "    accelerator=\"auto\",\n",
        "    devices=\"auto\",\n",
        "    max_epochs=NUM_EPOCHS,\n",
        "    # precision=16\n",
        ")"
      ]
    },
    {
      "cell_type": "code",
      "execution_count": 25,
      "metadata": {
        "colab": {
          "base_uri": "https://localhost:8080/",
          "height": 408,
          "referenced_widgets": [
            "7fdf6b26e8aa4528a805b15b4108189b",
            "ece18f06344a4d0cbf42c26420ce92a5",
            "958313fcff7d4d27986ee8e1cce828d1",
            "b6f029d028c148d280aff1df4491705e",
            "664a16bcd01346b2a737cf862f4532c7",
            "eb11d1d5fa1d4adc884597e84887b64e",
            "848d5e81b9ec43e8a234c6a6408161e6",
            "1438f0a94dc14731937ef0d452bb678e",
            "7dd6cfa5dcb94fbcbc3ffd91237c508c",
            "ee184bd142ef46f7b149525ee6810c97",
            "e2ebc0bd74ae449e87b241a268236386",
            "3cadd78965944411836e889a88fc9a16",
            "1c85d148a853418a96f2154651df5dec",
            "b39939b1d6fa4f4caffca72fce16cc0b",
            "646f51fb6da04b8f8a33bbf218519558",
            "c32b4c69e9b04ebd9987bbb75b2190c5",
            "f12be4daddfb4a79b32e13c3865edc77",
            "db141aea571d45ada2dd6d7d295ec729",
            "b6b8d84ed6a843bc9f4ebec9e8c30a1b",
            "c507f97729dd402385757c790b9b0cb0",
            "7419cf3899d9468fbc8cfa53325d2ce2",
            "1d7a07beae704982b542476a7f3e621d",
            "81f844f8548d4366a9b904962d34ef32",
            "9667defd09fc4081b7d67c5835db45de",
            "4b4f46a055414e65a15f5d619a20719e",
            "343e385d76984e518b5aeef4c3e0e1f4",
            "3e004320b28d4171a008ba95f2134dfa",
            "4abacfcb60554bcdb2371d317ea2de72",
            "a2a1e009cf294de5b37939ea75663a85",
            "08d301b1538140cd8c6c05bf87c228bb",
            "aec60b3e4ac24700aa766e9a4a283694",
            "56b62b25d5e24a55bd72126ff2d7f485",
            "c763827a80214d8eaf51d4c85fad9733"
          ]
        },
        "id": "Aq5kF1eZNmjp",
        "outputId": "124273ca-9adf-4315-a62e-1ec056e58e1e"
      },
      "outputs": [
        {
          "name": "stderr",
          "output_type": "stream",
          "text": [
            "LOCAL_RANK: 0 - CUDA_VISIBLE_DEVICES: [0]\n",
            "\n",
            "  | Name        | Type               | Params\n",
            "---------------------------------------------------\n",
            "0 | downs       | ModuleList         | 4.7 M \n",
            "1 | ups         | ModuleList         | 12.2 M\n",
            "2 | pool        | MaxPool2d          | 0     \n",
            "3 | bottleneck  | DoubleConv         | 14.2 M\n",
            "4 | final_conv  | Conv2d             | 65    \n",
            "5 | loss_fn     | BCEWithLogitsLoss  | 0     \n",
            "6 | accuracy    | MulticlassAccuracy | 0     \n",
            "7 | my_accuracy | MyAccuracy         | 0     \n",
            "---------------------------------------------------\n",
            "31.0 M    Trainable params\n",
            "0         Non-trainable params\n",
            "31.0 M    Total params\n",
            "124.151   Total estimated model params size (MB)\n"
          ]
        },
        {
          "data": {
            "application/vnd.jupyter.widget-view+json": {
              "model_id": "1178c1d911814f9c982096fd702570ef",
              "version_major": 2,
              "version_minor": 0
            },
            "text/plain": [
              "Sanity Checking: |          | 0/? [00:00<?, ?it/s]"
            ]
          },
          "metadata": {},
          "output_type": "display_data"
        },
        {
          "data": {
            "application/vnd.jupyter.widget-view+json": {
              "model_id": "6565e4beecdc4595a970ef064692f11d",
              "version_major": 2,
              "version_minor": 0
            },
            "text/plain": [
              "Training: |          | 0/? [00:00<?, ?it/s]"
            ]
          },
          "metadata": {},
          "output_type": "display_data"
        },
        {
          "data": {
            "application/vnd.jupyter.widget-view+json": {
              "model_id": "4e263494033e41f8bb014603b5d11324",
              "version_major": 2,
              "version_minor": 0
            },
            "text/plain": [
              "Validation: |          | 0/? [00:00<?, ?it/s]"
            ]
          },
          "metadata": {},
          "output_type": "display_data"
        },
        {
          "data": {
            "application/vnd.jupyter.widget-view+json": {
              "model_id": "6243b32ad6d04533aaead32ff8e0201d",
              "version_major": 2,
              "version_minor": 0
            },
            "text/plain": [
              "Validation: |          | 0/? [00:00<?, ?it/s]"
            ]
          },
          "metadata": {},
          "output_type": "display_data"
        },
        {
          "data": {
            "application/vnd.jupyter.widget-view+json": {
              "model_id": "e63b1ebb4b0145eebfd132cd88ad2f6b",
              "version_major": 2,
              "version_minor": 0
            },
            "text/plain": [
              "Validation: |          | 0/? [00:00<?, ?it/s]"
            ]
          },
          "metadata": {},
          "output_type": "display_data"
        },
        {
          "data": {
            "application/vnd.jupyter.widget-view+json": {
              "model_id": "8075100df3844514b3359a6c257b88ab",
              "version_major": 2,
              "version_minor": 0
            },
            "text/plain": [
              "Validation: |          | 0/? [00:00<?, ?it/s]"
            ]
          },
          "metadata": {},
          "output_type": "display_data"
        },
        {
          "data": {
            "application/vnd.jupyter.widget-view+json": {
              "model_id": "705b7f4d9fcd4771bc1b9d4174b7d09b",
              "version_major": 2,
              "version_minor": 0
            },
            "text/plain": [
              "Validation: |          | 0/? [00:00<?, ?it/s]"
            ]
          },
          "metadata": {},
          "output_type": "display_data"
        },
        {
          "data": {
            "application/vnd.jupyter.widget-view+json": {
              "model_id": "efa392d6c691459eb9178c0e23186a5f",
              "version_major": 2,
              "version_minor": 0
            },
            "text/plain": [
              "Validation: |          | 0/? [00:00<?, ?it/s]"
            ]
          },
          "metadata": {},
          "output_type": "display_data"
        },
        {
          "data": {
            "application/vnd.jupyter.widget-view+json": {
              "model_id": "1d99daab9d0e4f429ff452a1770100aa",
              "version_major": 2,
              "version_minor": 0
            },
            "text/plain": [
              "Validation: |          | 0/? [00:00<?, ?it/s]"
            ]
          },
          "metadata": {},
          "output_type": "display_data"
        },
        {
          "data": {
            "application/vnd.jupyter.widget-view+json": {
              "model_id": "5e286a719ab7418d8fe01f37e6c553f7",
              "version_major": 2,
              "version_minor": 0
            },
            "text/plain": [
              "Validation: |          | 0/? [00:00<?, ?it/s]"
            ]
          },
          "metadata": {},
          "output_type": "display_data"
        }
      ],
      "source": [
        "trainer.fit(model, train_loaders, val_loaders)\n"
      ]
    },
    {
      "cell_type": "code",
      "execution_count": null,
      "metadata": {},
      "outputs": [],
      "source": [
        "# del model\n",
        "# torch.cuda.empty_cache()"
      ]
    },
    {
      "cell_type": "markdown",
      "metadata": {
        "id": "NqDw7yp_SOZN"
      },
      "source": [
        " # view results"
      ]
    },
    {
      "cell_type": "code",
      "execution_count": null,
      "metadata": {
        "id": "G0Fi6OBnNmjp"
      },
      "outputs": [],
      "source": [
        "loader = val_loaders\n",
        "folder=\"./save_images\"\n",
        "device=DEVICE\n",
        "\n",
        "try:\n",
        "    os.mkdir(folder)\n",
        "except FileExistsError:\n",
        "    print(\"Directory \",folder,\" already exists\")\n"
      ]
    },
    {
      "cell_type": "code",
      "execution_count": null,
      "metadata": {
        "id": "RH85WDfvNmjp"
      },
      "outputs": [],
      "source": [
        "for idx, (x, y) in enumerate(val_loaders):\n",
        "    x = x.to(device=device)\n",
        "    with torch.no_grad():\n",
        "        preds = torch.sigmoid(model(x))\n",
        "        preds = (preds > 0.5).float()\n",
        "    torchvision.utils.save_image(preds, os.path.join(folder,f\"pred_{idx}.png\"))\n",
        "    torchvision.utils.save_image(y.unsqueeze(1), os.path.join(folder,f\"correct_{idx}.png\"))"
      ]
    },
    {
      "cell_type": "code",
      "execution_count": 27,
      "metadata": {
        "colab": {
          "base_uri": "https://localhost:8080/"
        },
        "id": "ALbqPVetQJhR",
        "outputId": "5ac5b393-f9ff-4ad3-b96c-37fd2b96b2d0"
      },
      "outputs": [
        {
          "name": "stdout",
          "output_type": "stream",
          "text": [
            "0 torch.Size([8, 3, 512, 512])\n"
          ]
        }
      ],
      "source": [
        "\n",
        "for idx, (pixel_values,masks) in enumerate(val_loaders):\n",
        "    pixel_values= pixel_values.to(DEVICE)\n",
        "    print(idx, pixel_values.shape)\n",
        "    preds = torch.sigmoid(model(pixel_values))\n",
        "    predicted_mask = (preds > 0.5).float()\n",
        "    masks = masks.cpu().numpy()\n",
        "    break # only one batch\n"
      ]
    },
    {
      "cell_type": "code",
      "execution_count": null,
      "metadata": {
        "colab": {
          "base_uri": "https://localhost:8080/"
        },
        "id": "1t7MJWLiSoFC",
        "outputId": "8cac0a06-c1b2-4d54-f838-b79f81ca377b"
      },
      "outputs": [],
      "source": [
        "print(\"predicted_mask.shape\",predicted_mask.shape)\n",
        "print(\"masks.shape\",masks.shape)"
      ]
    },
    {
      "cell_type": "code",
      "execution_count": 29,
      "metadata": {
        "colab": {
          "base_uri": "https://localhost:8080/",
          "height": 1000
        },
        "id": "Sth5I5x9R-xu",
        "outputId": "f91830f7-a8b5-41c7-f8ec-57b23c793cab"
      },
      "outputs": [
        {
          "data": {
            "image/png": "[encoded data removed]",
            "text/plain": [
              "<Figure size 1500x1500 with 16 Axes>"
            ]
          },
          "metadata": {},
          "output_type": "display_data"
        }
      ],
      "source": [
        "color_map = {\n",
        "    0:(0,0,0),\n",
        "    1:(255,0,0),\n",
        "}\n",
        "\n",
        "def prediction_to_vis(prediction):\n",
        "    vis_shape = prediction.shape + (3,)\n",
        "    vis = np.zeros(vis_shape)\n",
        "    for i,c in color_map.items():\n",
        "        vis[prediction == i] = color_map[i]\n",
        "    return Image.fromarray(vis.astype(np.uint8).squeeze())\n",
        "n_plots = 8\n",
        "from matplotlib import pyplot as plt\n",
        "f, axarr = plt.subplots(n_plots,2)\n",
        "f.set_figheight(15)\n",
        "f.set_figwidth(15)\n",
        "for i in range(n_plots):\n",
        "    axarr[i,0].imshow(prediction_to_vis(predicted_mask[i,:,:].cpu()))\n",
        "    axarr[i,1].imshow(prediction_to_vis(masks[i,:,:]))"
      ]
    },
    {
      "cell_type": "code",
      "execution_count": 32,
      "metadata": {
        "colab": {
          "base_uri": "https://localhost:8080/",
          "height": 529
        },
        "id": "HxpXpZQ5Nmjq",
        "outputId": "85a9ef9d-b393-40a6-9b6c-cea17ffc58dd"
      },
      "outputs": [
        {
          "data": {
            "image/png": "[encoded data removed]",
            "text/plain": [
              "<PIL.Image.Image image mode=RGBA size=512x512>"
            ]
          },
          "execution_count": 32,
          "metadata": {},
          "output_type": "execute_result"
        }
      ],
      "source": [
        "#Predict on a test image and overlay the mask on the original image\n",
        "test_idx = 0\n",
        "input_image_file = os.path.join(val_ds.root_dir,val_ds.images[test_idx])\n",
        "input_image = Image.open(input_image_file)\n",
        "test_batch = val_ds[test_idx]\n",
        "images, masks = test_batch\n",
        "images = torch.unsqueeze(images, 0).to(DEVICE)\n",
        "masks = torch.unsqueeze(masks, 0)\n",
        "outputs = model(images)\n",
        "preds = torch.sigmoid(outputs)\n",
        "predicted_mask = (preds > 0.5).float()\n",
        "\n",
        "\n",
        "mask = prediction_to_vis(predicted_mask[test_idx,:,:].cpu())\n",
        "mask = mask.resize(input_image.size)\n",
        "mask = mask.convert(\"RGBA\")\n",
        "input_image = input_image.convert(\"RGBA\")\n",
        "overlay_img = Image.blend(input_image, mask, 0.5)\n",
        "overlay_img"
      ]
    },
    {
      "cell_type": "code",
      "execution_count": null,
      "metadata": {
        "id": "QXfIs7RvVOam"
      },
      "outputs": [],
      "source": []
    }
  ],
  "metadata": {
    "colab": {
      "collapsed_sections": [
        "aVKEGt3rOiYb",
        "ulrYwlGnPSLY"
      ],
      "provenance": []
    },
    "kernelspec": {
      "display_name": "LayoutLMv3",
      "language": "python",
      "name": "python3"
    },
    "language_info": {
      "codemirror_mode": {
        "name": "ipython",
        "version": 3
      },
      "file_extension": ".py",
      "mimetype": "text/x-python",
      "name": "python",
      "nbconvert_exporter": "python",
      "pygments_lexer": "ipython3",
      "version": "3.10.13"
    },
    "widgets": {
      "application/vnd.jupyter.widget-state+json": {
        "08d301b1538140cd8c6c05bf87c228bb": {
          "model_module": "@jupyter-widgets/base",
          "model_module_version": "1.2.0",
          "model_name": "LayoutModel",
          "state": {
            "_model_module": "@jupyter-widgets/base",
            "_model_module_version": "1.2.0",
            "_model_name": "LayoutModel",
            "_view_count": null,
            "_view_module": "@jupyter-widgets/base",
            "_view_module_version": "1.2.0",
            "_view_name": "LayoutView",
            "align_content": null,
            "align_items": null,
            "align_self": null,
            "border": null,
            "bottom": null,
            "display": null,
            "flex": "2",
            "flex_flow": null,
            "grid_area": null,
            "grid_auto_columns": null,
            "grid_auto_flow": null,
            "grid_auto_rows": null,
            "grid_column": null,
            "grid_gap": null,
            "grid_row": null,
            "grid_template_areas": null,
            "grid_template_columns": null,
            "grid_template_rows": null,
            "height": null,
            "justify_content": null,
            "justify_items": null,
            "left": null,
            "margin": null,
            "max_height": null,
            "max_width": null,
            "min_height": null,
            "min_width": null,
            "object_fit": null,
            "object_position": null,
            "order": null,
            "overflow": null,
            "overflow_x": null,
            "overflow_y": null,
            "padding": null,
            "right": null,
            "top": null,
            "visibility": null,
            "width": null
          }
        },
        "1438f0a94dc14731937ef0d452bb678e": {
          "model_module": "@jupyter-widgets/base",
          "model_module_version": "1.2.0",
          "model_name": "LayoutModel",
          "state": {
            "_model_module": "@jupyter-widgets/base",
            "_model_module_version": "1.2.0",
            "_model_name": "LayoutModel",
            "_view_count": null,
            "_view_module": "@jupyter-widgets/base",
            "_view_module_version": "1.2.0",
            "_view_name": "LayoutView",
            "align_content": null,
            "align_items": null,
            "align_self": null,
            "border": null,
            "bottom": null,
            "display": null,
            "flex": "2",
            "flex_flow": null,
            "grid_area": null,
            "grid_auto_columns": null,
            "grid_auto_flow": null,
            "grid_auto_rows": null,
            "grid_column": null,
            "grid_gap": null,
            "grid_row": null,
            "grid_template_areas": null,
            "grid_template_columns": null,
            "grid_template_rows": null,
            "height": null,
            "justify_content": null,
            "justify_items": null,
            "left": null,
            "margin": null,
            "max_height": null,
            "max_width": null,
            "min_height": null,
            "min_width": null,
            "object_fit": null,
            "object_position": null,
            "order": null,
            "overflow": null,
            "overflow_x": null,
            "overflow_y": null,
            "padding": null,
            "right": null,
            "top": null,
            "visibility": null,
            "width": null
          }
        },
        "1c85d148a853418a96f2154651df5dec": {
          "model_module": "@jupyter-widgets/controls",
          "model_module_version": "1.5.0",
          "model_name": "HTMLModel",
          "state": {
            "_dom_classes": [],
            "_model_module": "@jupyter-widgets/controls",
            "_model_module_version": "1.5.0",
            "_model_name": "HTMLModel",
            "_view_count": null,
            "_view_module": "@jupyter-widgets/controls",
            "_view_module_version": "1.5.0",
            "_view_name": "HTMLView",
            "description": "",
            "description_tooltip": null,
            "layout": "IPY_MODEL_f12be4daddfb4a79b32e13c3865edc77",
            "placeholder": "​",
            "style": "IPY_MODEL_db141aea571d45ada2dd6d7d295ec729",
            "value": "Epoch 0: 100%"
          }
        },
        "1d7a07beae704982b542476a7f3e621d": {
          "model_module": "@jupyter-widgets/controls",
          "model_module_version": "1.5.0",
          "model_name": "DescriptionStyleModel",
          "state": {
            "_model_module": "@jupyter-widgets/controls",
            "_model_module_version": "1.5.0",
            "_model_name": "DescriptionStyleModel",
            "_view_count": null,
            "_view_module": "@jupyter-widgets/base",
            "_view_module_version": "1.2.0",
            "_view_name": "StyleView",
            "description_width": ""
          }
        },
        "343e385d76984e518b5aeef4c3e0e1f4": {
          "model_module": "@jupyter-widgets/controls",
          "model_module_version": "1.5.0",
          "model_name": "HTMLModel",
          "state": {
            "_dom_classes": [],
            "_model_module": "@jupyter-widgets/controls",
            "_model_module_version": "1.5.0",
            "_model_name": "HTMLModel",
            "_view_count": null,
            "_view_module": "@jupyter-widgets/controls",
            "_view_module_version": "1.5.0",
            "_view_name": "HTMLView",
            "description": "",
            "description_tooltip": null,
            "layout": "IPY_MODEL_56b62b25d5e24a55bd72126ff2d7f485",
            "placeholder": "​",
            "style": "IPY_MODEL_c763827a80214d8eaf51d4c85fad9733",
            "value": " 2/2 [00:12&lt;00:00,  0.15it/s]"
          }
        },
        "3cadd78965944411836e889a88fc9a16": {
          "model_module": "@jupyter-widgets/controls",
          "model_module_version": "1.5.0",
          "model_name": "HBoxModel",
          "state": {
            "_dom_classes": [],
            "_model_module": "@jupyter-widgets/controls",
            "_model_module_version": "1.5.0",
            "_model_name": "HBoxModel",
            "_view_count": null,
            "_view_module": "@jupyter-widgets/controls",
            "_view_module_version": "1.5.0",
            "_view_name": "HBoxView",
            "box_style": "",
            "children": [
              "IPY_MODEL_1c85d148a853418a96f2154651df5dec",
              "IPY_MODEL_b39939b1d6fa4f4caffca72fce16cc0b",
              "IPY_MODEL_646f51fb6da04b8f8a33bbf218519558"
            ],
            "layout": "IPY_MODEL_c32b4c69e9b04ebd9987bbb75b2190c5"
          }
        },
        "3e004320b28d4171a008ba95f2134dfa": {
          "model_module": "@jupyter-widgets/base",
          "model_module_version": "1.2.0",
          "model_name": "LayoutModel",
          "state": {
            "_model_module": "@jupyter-widgets/base",
            "_model_module_version": "1.2.0",
            "_model_name": "LayoutModel",
            "_view_count": null,
            "_view_module": "@jupyter-widgets/base",
            "_view_module_version": "1.2.0",
            "_view_name": "LayoutView",
            "align_content": null,
            "align_items": null,
            "align_self": null,
            "border": null,
            "bottom": null,
            "display": "inline-flex",
            "flex": null,
            "flex_flow": "row wrap",
            "grid_area": null,
            "grid_auto_columns": null,
            "grid_auto_flow": null,
            "grid_auto_rows": null,
            "grid_column": null,
            "grid_gap": null,
            "grid_row": null,
            "grid_template_areas": null,
            "grid_template_columns": null,
            "grid_template_rows": null,
            "height": null,
            "justify_content": null,
            "justify_items": null,
            "left": null,
            "margin": null,
            "max_height": null,
            "max_width": null,
            "min_height": null,
            "min_width": null,
            "object_fit": null,
            "object_position": null,
            "order": null,
            "overflow": null,
            "overflow_x": null,
            "overflow_y": null,
            "padding": null,
            "right": null,
            "top": null,
            "visibility": "hidden",
            "width": "100%"
          }
        },
        "4abacfcb60554bcdb2371d317ea2de72": {
          "model_module": "@jupyter-widgets/base",
          "model_module_version": "1.2.0",
          "model_name": "LayoutModel",
          "state": {
            "_model_module": "@jupyter-widgets/base",
            "_model_module_version": "1.2.0",
            "_model_name": "LayoutModel",
            "_view_count": null,
            "_view_module": "@jupyter-widgets/base",
            "_view_module_version": "1.2.0",
            "_view_name": "LayoutView",
            "align_content": null,
            "align_items": null,
            "align_self": null,
            "border": null,
            "bottom": null,
            "display": null,
            "flex": null,
            "flex_flow": null,
            "grid_area": null,
            "grid_auto_columns": null,
            "grid_auto_flow": null,
            "grid_auto_rows": null,
            "grid_column": null,
            "grid_gap": null,
            "grid_row": null,
            "grid_template_areas": null,
            "grid_template_columns": null,
            "grid_template_rows": null,
            "height": null,
            "justify_content": null,
            "justify_items": null,
            "left": null,
            "margin": null,
            "max_height": null,
            "max_width": null,
            "min_height": null,
            "min_width": null,
            "object_fit": null,
            "object_position": null,
            "order": null,
            "overflow": null,
            "overflow_x": null,
            "overflow_y": null,
            "padding": null,
            "right": null,
            "top": null,
            "visibility": null,
            "width": null
          }
        },
        "4b4f46a055414e65a15f5d619a20719e": {
          "model_module": "@jupyter-widgets/controls",
          "model_module_version": "1.5.0",
          "model_name": "FloatProgressModel",
          "state": {
            "_dom_classes": [],
            "_model_module": "@jupyter-widgets/controls",
            "_model_module_version": "1.5.0",
            "_model_name": "FloatProgressModel",
            "_view_count": null,
            "_view_module": "@jupyter-widgets/controls",
            "_view_module_version": "1.5.0",
            "_view_name": "ProgressView",
            "bar_style": "",
            "description": "",
            "description_tooltip": null,
            "layout": "IPY_MODEL_08d301b1538140cd8c6c05bf87c228bb",
            "max": 2,
            "min": 0,
            "orientation": "horizontal",
            "style": "IPY_MODEL_aec60b3e4ac24700aa766e9a4a283694",
            "value": 2
          }
        },
        "56b62b25d5e24a55bd72126ff2d7f485": {
          "model_module": "@jupyter-widgets/base",
          "model_module_version": "1.2.0",
          "model_name": "LayoutModel",
          "state": {
            "_model_module": "@jupyter-widgets/base",
            "_model_module_version": "1.2.0",
            "_model_name": "LayoutModel",
            "_view_count": null,
            "_view_module": "@jupyter-widgets/base",
            "_view_module_version": "1.2.0",
            "_view_name": "LayoutView",
            "align_content": null,
            "align_items": null,
            "align_self": null,
            "border": null,
            "bottom": null,
            "display": null,
            "flex": null,
            "flex_flow": null,
            "grid_area": null,
            "grid_auto_columns": null,
            "grid_auto_flow": null,
            "grid_auto_rows": null,
            "grid_column": null,
            "grid_gap": null,
            "grid_row": null,
            "grid_template_areas": null,
            "grid_template_columns": null,
            "grid_template_rows": null,
            "height": null,
            "justify_content": null,
            "justify_items": null,
            "left": null,
            "margin": null,
            "max_height": null,
            "max_width": null,
            "min_height": null,
            "min_width": null,
            "object_fit": null,
            "object_position": null,
            "order": null,
            "overflow": null,
            "overflow_x": null,
            "overflow_y": null,
            "padding": null,
            "right": null,
            "top": null,
            "visibility": null,
            "width": null
          }
        },
        "646f51fb6da04b8f8a33bbf218519558": {
          "model_module": "@jupyter-widgets/controls",
          "model_module_version": "1.5.0",
          "model_name": "HTMLModel",
          "state": {
            "_dom_classes": [],
            "_model_module": "@jupyter-widgets/controls",
            "_model_module_version": "1.5.0",
            "_model_name": "HTMLModel",
            "_view_count": null,
            "_view_module": "@jupyter-widgets/controls",
            "_view_module_version": "1.5.0",
            "_view_name": "HTMLView",
            "description": "",
            "description_tooltip": null,
            "layout": "IPY_MODEL_7419cf3899d9468fbc8cfa53325d2ce2",
            "placeholder": "​",
            "style": "IPY_MODEL_1d7a07beae704982b542476a7f3e621d",
            "value": " 7/7 [04:21&lt;00:00,  0.03it/s, v_num=0, loss=0.591, accuracy=0.800, dice_score=0.350]"
          }
        },
        "664a16bcd01346b2a737cf862f4532c7": {
          "model_module": "@jupyter-widgets/base",
          "model_module_version": "1.2.0",
          "model_name": "LayoutModel",
          "state": {
            "_model_module": "@jupyter-widgets/base",
            "_model_module_version": "1.2.0",
            "_model_name": "LayoutModel",
            "_view_count": null,
            "_view_module": "@jupyter-widgets/base",
            "_view_module_version": "1.2.0",
            "_view_name": "LayoutView",
            "align_content": null,
            "align_items": null,
            "align_self": null,
            "border": null,
            "bottom": null,
            "display": "inline-flex",
            "flex": null,
            "flex_flow": "row wrap",
            "grid_area": null,
            "grid_auto_columns": null,
            "grid_auto_flow": null,
            "grid_auto_rows": null,
            "grid_column": null,
            "grid_gap": null,
            "grid_row": null,
            "grid_template_areas": null,
            "grid_template_columns": null,
            "grid_template_rows": null,
            "height": null,
            "justify_content": null,
            "justify_items": null,
            "left": null,
            "margin": null,
            "max_height": null,
            "max_width": null,
            "min_height": null,
            "min_width": null,
            "object_fit": null,
            "object_position": null,
            "order": null,
            "overflow": null,
            "overflow_x": null,
            "overflow_y": null,
            "padding": null,
            "right": null,
            "top": null,
            "visibility": "hidden",
            "width": "100%"
          }
        },
        "7419cf3899d9468fbc8cfa53325d2ce2": {
          "model_module": "@jupyter-widgets/base",
          "model_module_version": "1.2.0",
          "model_name": "LayoutModel",
          "state": {
            "_model_module": "@jupyter-widgets/base",
            "_model_module_version": "1.2.0",
            "_model_name": "LayoutModel",
            "_view_count": null,
            "_view_module": "@jupyter-widgets/base",
            "_view_module_version": "1.2.0",
            "_view_name": "LayoutView",
            "align_content": null,
            "align_items": null,
            "align_self": null,
            "border": null,
            "bottom": null,
            "display": null,
            "flex": null,
            "flex_flow": null,
            "grid_area": null,
            "grid_auto_columns": null,
            "grid_auto_flow": null,
            "grid_auto_rows": null,
            "grid_column": null,
            "grid_gap": null,
            "grid_row": null,
            "grid_template_areas": null,
            "grid_template_columns": null,
            "grid_template_rows": null,
            "height": null,
            "justify_content": null,
            "justify_items": null,
            "left": null,
            "margin": null,
            "max_height": null,
            "max_width": null,
            "min_height": null,
            "min_width": null,
            "object_fit": null,
            "object_position": null,
            "order": null,
            "overflow": null,
            "overflow_x": null,
            "overflow_y": null,
            "padding": null,
            "right": null,
            "top": null,
            "visibility": null,
            "width": null
          }
        },
        "7dd6cfa5dcb94fbcbc3ffd91237c508c": {
          "model_module": "@jupyter-widgets/controls",
          "model_module_version": "1.5.0",
          "model_name": "ProgressStyleModel",
          "state": {
            "_model_module": "@jupyter-widgets/controls",
            "_model_module_version": "1.5.0",
            "_model_name": "ProgressStyleModel",
            "_view_count": null,
            "_view_module": "@jupyter-widgets/base",
            "_view_module_version": "1.2.0",
            "_view_name": "StyleView",
            "bar_color": null,
            "description_width": ""
          }
        },
        "7fdf6b26e8aa4528a805b15b4108189b": {
          "model_module": "@jupyter-widgets/controls",
          "model_module_version": "1.5.0",
          "model_name": "HBoxModel",
          "state": {
            "_dom_classes": [],
            "_model_module": "@jupyter-widgets/controls",
            "_model_module_version": "1.5.0",
            "_model_name": "HBoxModel",
            "_view_count": null,
            "_view_module": "@jupyter-widgets/controls",
            "_view_module_version": "1.5.0",
            "_view_name": "HBoxView",
            "box_style": "",
            "children": [
              "IPY_MODEL_ece18f06344a4d0cbf42c26420ce92a5",
              "IPY_MODEL_958313fcff7d4d27986ee8e1cce828d1",
              "IPY_MODEL_b6f029d028c148d280aff1df4491705e"
            ],
            "layout": "IPY_MODEL_664a16bcd01346b2a737cf862f4532c7"
          }
        },
        "81f844f8548d4366a9b904962d34ef32": {
          "model_module": "@jupyter-widgets/controls",
          "model_module_version": "1.5.0",
          "model_name": "HBoxModel",
          "state": {
            "_dom_classes": [],
            "_model_module": "@jupyter-widgets/controls",
            "_model_module_version": "1.5.0",
            "_model_name": "HBoxModel",
            "_view_count": null,
            "_view_module": "@jupyter-widgets/controls",
            "_view_module_version": "1.5.0",
            "_view_name": "HBoxView",
            "box_style": "",
            "children": [
              "IPY_MODEL_9667defd09fc4081b7d67c5835db45de",
              "IPY_MODEL_4b4f46a055414e65a15f5d619a20719e",
              "IPY_MODEL_343e385d76984e518b5aeef4c3e0e1f4"
            ],
            "layout": "IPY_MODEL_3e004320b28d4171a008ba95f2134dfa"
          }
        },
        "848d5e81b9ec43e8a234c6a6408161e6": {
          "model_module": "@jupyter-widgets/controls",
          "model_module_version": "1.5.0",
          "model_name": "DescriptionStyleModel",
          "state": {
            "_model_module": "@jupyter-widgets/controls",
            "_model_module_version": "1.5.0",
            "_model_name": "DescriptionStyleModel",
            "_view_count": null,
            "_view_module": "@jupyter-widgets/base",
            "_view_module_version": "1.2.0",
            "_view_name": "StyleView",
            "description_width": ""
          }
        },
        "958313fcff7d4d27986ee8e1cce828d1": {
          "model_module": "@jupyter-widgets/controls",
          "model_module_version": "1.5.0",
          "model_name": "FloatProgressModel",
          "state": {
            "_dom_classes": [],
            "_model_module": "@jupyter-widgets/controls",
            "_model_module_version": "1.5.0",
            "_model_name": "FloatProgressModel",
            "_view_count": null,
            "_view_module": "@jupyter-widgets/controls",
            "_view_module_version": "1.5.0",
            "_view_name": "ProgressView",
            "bar_style": "",
            "description": "",
            "description_tooltip": null,
            "layout": "IPY_MODEL_1438f0a94dc14731937ef0d452bb678e",
            "max": 2,
            "min": 0,
            "orientation": "horizontal",
            "style": "IPY_MODEL_7dd6cfa5dcb94fbcbc3ffd91237c508c",
            "value": 2
          }
        },
        "9667defd09fc4081b7d67c5835db45de": {
          "model_module": "@jupyter-widgets/controls",
          "model_module_version": "1.5.0",
          "model_name": "HTMLModel",
          "state": {
            "_dom_classes": [],
            "_model_module": "@jupyter-widgets/controls",
            "_model_module_version": "1.5.0",
            "_model_name": "HTMLModel",
            "_view_count": null,
            "_view_module": "@jupyter-widgets/controls",
            "_view_module_version": "1.5.0",
            "_view_name": "HTMLView",
            "description": "",
            "description_tooltip": null,
            "layout": "IPY_MODEL_4abacfcb60554bcdb2371d317ea2de72",
            "placeholder": "​",
            "style": "IPY_MODEL_a2a1e009cf294de5b37939ea75663a85",
            "value": "Validation DataLoader 0: 100%"
          }
        },
        "a2a1e009cf294de5b37939ea75663a85": {
          "model_module": "@jupyter-widgets/controls",
          "model_module_version": "1.5.0",
          "model_name": "DescriptionStyleModel",
          "state": {
            "_model_module": "@jupyter-widgets/controls",
            "_model_module_version": "1.5.0",
            "_model_name": "DescriptionStyleModel",
            "_view_count": null,
            "_view_module": "@jupyter-widgets/base",
            "_view_module_version": "1.2.0",
            "_view_name": "StyleView",
            "description_width": ""
          }
        },
        "aec60b3e4ac24700aa766e9a4a283694": {
          "model_module": "@jupyter-widgets/controls",
          "model_module_version": "1.5.0",
          "model_name": "ProgressStyleModel",
          "state": {
            "_model_module": "@jupyter-widgets/controls",
            "_model_module_version": "1.5.0",
            "_model_name": "ProgressStyleModel",
            "_view_count": null,
            "_view_module": "@jupyter-widgets/base",
            "_view_module_version": "1.2.0",
            "_view_name": "StyleView",
            "bar_color": null,
            "description_width": ""
          }
        },
        "b39939b1d6fa4f4caffca72fce16cc0b": {
          "model_module": "@jupyter-widgets/controls",
          "model_module_version": "1.5.0",
          "model_name": "FloatProgressModel",
          "state": {
            "_dom_classes": [],
            "_model_module": "@jupyter-widgets/controls",
            "_model_module_version": "1.5.0",
            "_model_name": "FloatProgressModel",
            "_view_count": null,
            "_view_module": "@jupyter-widgets/controls",
            "_view_module_version": "1.5.0",
            "_view_name": "ProgressView",
            "bar_style": "success",
            "description": "",
            "description_tooltip": null,
            "layout": "IPY_MODEL_b6b8d84ed6a843bc9f4ebec9e8c30a1b",
            "max": 7,
            "min": 0,
            "orientation": "horizontal",
            "style": "IPY_MODEL_c507f97729dd402385757c790b9b0cb0",
            "value": 7
          }
        },
        "b6b8d84ed6a843bc9f4ebec9e8c30a1b": {
          "model_module": "@jupyter-widgets/base",
          "model_module_version": "1.2.0",
          "model_name": "LayoutModel",
          "state": {
            "_model_module": "@jupyter-widgets/base",
            "_model_module_version": "1.2.0",
            "_model_name": "LayoutModel",
            "_view_count": null,
            "_view_module": "@jupyter-widgets/base",
            "_view_module_version": "1.2.0",
            "_view_name": "LayoutView",
            "align_content": null,
            "align_items": null,
            "align_self": null,
            "border": null,
            "bottom": null,
            "display": null,
            "flex": "2",
            "flex_flow": null,
            "grid_area": null,
            "grid_auto_columns": null,
            "grid_auto_flow": null,
            "grid_auto_rows": null,
            "grid_column": null,
            "grid_gap": null,
            "grid_row": null,
            "grid_template_areas": null,
            "grid_template_columns": null,
            "grid_template_rows": null,
            "height": null,
            "justify_content": null,
            "justify_items": null,
            "left": null,
            "margin": null,
            "max_height": null,
            "max_width": null,
            "min_height": null,
            "min_width": null,
            "object_fit": null,
            "object_position": null,
            "order": null,
            "overflow": null,
            "overflow_x": null,
            "overflow_y": null,
            "padding": null,
            "right": null,
            "top": null,
            "visibility": null,
            "width": null
          }
        },
        "b6f029d028c148d280aff1df4491705e": {
          "model_module": "@jupyter-widgets/controls",
          "model_module_version": "1.5.0",
          "model_name": "HTMLModel",
          "state": {
            "_dom_classes": [],
            "_model_module": "@jupyter-widgets/controls",
            "_model_module_version": "1.5.0",
            "_model_name": "HTMLModel",
            "_view_count": null,
            "_view_module": "@jupyter-widgets/controls",
            "_view_module_version": "1.5.0",
            "_view_name": "HTMLView",
            "description": "",
            "description_tooltip": null,
            "layout": "IPY_MODEL_ee184bd142ef46f7b149525ee6810c97",
            "placeholder": "​",
            "style": "IPY_MODEL_e2ebc0bd74ae449e87b241a268236386",
            "value": " 2/2 [00:19&lt;00:00,  0.10it/s]"
          }
        },
        "c32b4c69e9b04ebd9987bbb75b2190c5": {
          "model_module": "@jupyter-widgets/base",
          "model_module_version": "1.2.0",
          "model_name": "LayoutModel",
          "state": {
            "_model_module": "@jupyter-widgets/base",
            "_model_module_version": "1.2.0",
            "_model_name": "LayoutModel",
            "_view_count": null,
            "_view_module": "@jupyter-widgets/base",
            "_view_module_version": "1.2.0",
            "_view_name": "LayoutView",
            "align_content": null,
            "align_items": null,
            "align_self": null,
            "border": null,
            "bottom": null,
            "display": "inline-flex",
            "flex": null,
            "flex_flow": "row wrap",
            "grid_area": null,
            "grid_auto_columns": null,
            "grid_auto_flow": null,
            "grid_auto_rows": null,
            "grid_column": null,
            "grid_gap": null,
            "grid_row": null,
            "grid_template_areas": null,
            "grid_template_columns": null,
            "grid_template_rows": null,
            "height": null,
            "justify_content": null,
            "justify_items": null,
            "left": null,
            "margin": null,
            "max_height": null,
            "max_width": null,
            "min_height": null,
            "min_width": null,
            "object_fit": null,
            "object_position": null,
            "order": null,
            "overflow": null,
            "overflow_x": null,
            "overflow_y": null,
            "padding": null,
            "right": null,
            "top": null,
            "visibility": null,
            "width": "100%"
          }
        },
        "c507f97729dd402385757c790b9b0cb0": {
          "model_module": "@jupyter-widgets/controls",
          "model_module_version": "1.5.0",
          "model_name": "ProgressStyleModel",
          "state": {
            "_model_module": "@jupyter-widgets/controls",
            "_model_module_version": "1.5.0",
            "_model_name": "ProgressStyleModel",
            "_view_count": null,
            "_view_module": "@jupyter-widgets/base",
            "_view_module_version": "1.2.0",
            "_view_name": "StyleView",
            "bar_color": null,
            "description_width": ""
          }
        },
        "c763827a80214d8eaf51d4c85fad9733": {
          "model_module": "@jupyter-widgets/controls",
          "model_module_version": "1.5.0",
          "model_name": "DescriptionStyleModel",
          "state": {
            "_model_module": "@jupyter-widgets/controls",
            "_model_module_version": "1.5.0",
            "_model_name": "DescriptionStyleModel",
            "_view_count": null,
            "_view_module": "@jupyter-widgets/base",
            "_view_module_version": "1.2.0",
            "_view_name": "StyleView",
            "description_width": ""
          }
        },
        "db141aea571d45ada2dd6d7d295ec729": {
          "model_module": "@jupyter-widgets/controls",
          "model_module_version": "1.5.0",
          "model_name": "DescriptionStyleModel",
          "state": {
            "_model_module": "@jupyter-widgets/controls",
            "_model_module_version": "1.5.0",
            "_model_name": "DescriptionStyleModel",
            "_view_count": null,
            "_view_module": "@jupyter-widgets/base",
            "_view_module_version": "1.2.0",
            "_view_name": "StyleView",
            "description_width": ""
          }
        },
        "e2ebc0bd74ae449e87b241a268236386": {
          "model_module": "@jupyter-widgets/controls",
          "model_module_version": "1.5.0",
          "model_name": "DescriptionStyleModel",
          "state": {
            "_model_module": "@jupyter-widgets/controls",
            "_model_module_version": "1.5.0",
            "_model_name": "DescriptionStyleModel",
            "_view_count": null,
            "_view_module": "@jupyter-widgets/base",
            "_view_module_version": "1.2.0",
            "_view_name": "StyleView",
            "description_width": ""
          }
        },
        "eb11d1d5fa1d4adc884597e84887b64e": {
          "model_module": "@jupyter-widgets/base",
          "model_module_version": "1.2.0",
          "model_name": "LayoutModel",
          "state": {
            "_model_module": "@jupyter-widgets/base",
            "_model_module_version": "1.2.0",
            "_model_name": "LayoutModel",
            "_view_count": null,
            "_view_module": "@jupyter-widgets/base",
            "_view_module_version": "1.2.0",
            "_view_name": "LayoutView",
            "align_content": null,
            "align_items": null,
            "align_self": null,
            "border": null,
            "bottom": null,
            "display": null,
            "flex": null,
            "flex_flow": null,
            "grid_area": null,
            "grid_auto_columns": null,
            "grid_auto_flow": null,
            "grid_auto_rows": null,
            "grid_column": null,
            "grid_gap": null,
            "grid_row": null,
            "grid_template_areas": null,
            "grid_template_columns": null,
            "grid_template_rows": null,
            "height": null,
            "justify_content": null,
            "justify_items": null,
            "left": null,
            "margin": null,
            "max_height": null,
            "max_width": null,
            "min_height": null,
            "min_width": null,
            "object_fit": null,
            "object_position": null,
            "order": null,
            "overflow": null,
            "overflow_x": null,
            "overflow_y": null,
            "padding": null,
            "right": null,
            "top": null,
            "visibility": null,
            "width": null
          }
        },
        "ece18f06344a4d0cbf42c26420ce92a5": {
          "model_module": "@jupyter-widgets/controls",
          "model_module_version": "1.5.0",
          "model_name": "HTMLModel",
          "state": {
            "_dom_classes": [],
            "_model_module": "@jupyter-widgets/controls",
            "_model_module_version": "1.5.0",
            "_model_name": "HTMLModel",
            "_view_count": null,
            "_view_module": "@jupyter-widgets/controls",
            "_view_module_version": "1.5.0",
            "_view_name": "HTMLView",
            "description": "",
            "description_tooltip": null,
            "layout": "IPY_MODEL_eb11d1d5fa1d4adc884597e84887b64e",
            "placeholder": "​",
            "style": "IPY_MODEL_848d5e81b9ec43e8a234c6a6408161e6",
            "value": "Sanity Checking DataLoader 0: 100%"
          }
        },
        "ee184bd142ef46f7b149525ee6810c97": {
          "model_module": "@jupyter-widgets/base",
          "model_module_version": "1.2.0",
          "model_name": "LayoutModel",
          "state": {
            "_model_module": "@jupyter-widgets/base",
            "_model_module_version": "1.2.0",
            "_model_name": "LayoutModel",
            "_view_count": null,
            "_view_module": "@jupyter-widgets/base",
            "_view_module_version": "1.2.0",
            "_view_name": "LayoutView",
            "align_content": null,
            "align_items": null,
            "align_self": null,
            "border": null,
            "bottom": null,
            "display": null,
            "flex": null,
            "flex_flow": null,
            "grid_area": null,
            "grid_auto_columns": null,
            "grid_auto_flow": null,
            "grid_auto_rows": null,
            "grid_column": null,
            "grid_gap": null,
            "grid_row": null,
            "grid_template_areas": null,
            "grid_template_columns": null,
            "grid_template_rows": null,
            "height": null,
            "justify_content": null,
            "justify_items": null,
            "left": null,
            "margin": null,
            "max_height": null,
            "max_width": null,
            "min_height": null,
            "min_width": null,
            "object_fit": null,
            "object_position": null,
            "order": null,
            "overflow": null,
            "overflow_x": null,
            "overflow_y": null,
            "padding": null,
            "right": null,
            "top": null,
            "visibility": null,
            "width": null
          }
        },
        "f12be4daddfb4a79b32e13c3865edc77": {
          "model_module": "@jupyter-widgets/base",
          "model_module_version": "1.2.0",
          "model_name": "LayoutModel",
          "state": {
            "_model_module": "@jupyter-widgets/base",
            "_model_module_version": "1.2.0",
            "_model_name": "LayoutModel",
            "_view_count": null,
            "_view_module": "@jupyter-widgets/base",
            "_view_module_version": "1.2.0",
            "_view_name": "LayoutView",
            "align_content": null,
            "align_items": null,
            "align_self": null,
            "border": null,
            "bottom": null,
            "display": null,
            "flex": null,
            "flex_flow": null,
            "grid_area": null,
            "grid_auto_columns": null,
            "grid_auto_flow": null,
            "grid_auto_rows": null,
            "grid_column": null,
            "grid_gap": null,
            "grid_row": null,
            "grid_template_areas": null,
            "grid_template_columns": null,
            "grid_template_rows": null,
            "height": null,
            "justify_content": null,
            "justify_items": null,
            "left": null,
            "margin": null,
            "max_height": null,
            "max_width": null,
            "min_height": null,
            "min_width": null,
            "object_fit": null,
            "object_position": null,
            "order": null,
            "overflow": null,
            "overflow_x": null,
            "overflow_y": null,
            "padding": null,
            "right": null,
            "top": null,
            "visibility": null,
            "width": null
          }
        }
      }
    }
  },
  "nbformat": 4,
  "nbformat_minor": 0
}
